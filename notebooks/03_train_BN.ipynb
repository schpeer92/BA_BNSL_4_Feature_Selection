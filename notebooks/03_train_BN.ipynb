{
 "cells": [
  {
   "cell_type": "code",
   "execution_count": 2,
   "metadata": {},
   "outputs": [],
   "source": [
    "%load_ext autoreload\n",
    "%autoreload 2"
   ]
  },
  {
   "cell_type": "code",
   "execution_count": 3,
   "metadata": {},
   "outputs": [],
   "source": [
    "import pandas as pd\n",
    "import pickle\n",
    "from var_model.gobnilp_utils import train_bn, train_bns_normalizations_lags"
   ]
  },
  {
   "cell_type": "code",
   "execution_count": 4,
   "metadata": {},
   "outputs": [],
   "source": [
    "from sklearn.preprocessing import MinMaxScaler, StandardScaler"
   ]
  },
  {
   "cell_type": "markdown",
   "metadata": {},
   "source": [
    "# Read in Data"
   ]
  },
  {
   "cell_type": "code",
   "execution_count": 30,
   "metadata": {},
   "outputs": [],
   "source": [
    "df_air_quality_train = pd.read_csv(\"../data/03_model_input/air_train.csv\")\n",
    "df_prsa_data_train = pd.read_csv(\"../data/03_model_input/prsa_train.csv\")"
   ]
  },
  {
   "cell_type": "markdown",
   "metadata": {},
   "source": [
    "### Train BNs for all models and shifts"
   ]
  },
  {
   "cell_type": "code",
   "execution_count": 28,
   "metadata": {},
   "outputs": [],
   "source": [
    "normalizations = [None, \"std\", \"minmax\"]"
   ]
  },
  {
   "cell_type": "code",
   "execution_count": 33,
   "metadata": {},
   "outputs": [
    {
     "name": "stdout",
     "output_type": "stream",
     "text": [
      "Set parameter PreCrush to value 1\n",
      "Set parameter CutPasses to value 100000\n",
      "Set parameter GomoryPasses to value 100000\n",
      "Set parameter MIPFocus to value 2\n",
      "Set parameter ZeroHalfCuts to value 2\n",
      "Set parameter MIPGap to value 0\n",
      "Set parameter MIPGapAbs to value 0\n",
      "Set parameter PreCrush to value 1\n",
      "Set parameter CutPasses to value 100000\n",
      "Set parameter GomoryPasses to value 100000\n",
      "Set parameter MIPFocus to value 2\n",
      "Set parameter ZeroHalfCuts to value 2\n",
      "Set parameter MIPGap to value 0\n",
      "Set parameter MIPGapAbs to value 0\n",
      "Set parameter PreCrush to value 1\n",
      "Set parameter CutPasses to value 100000\n",
      "Set parameter GomoryPasses to value 100000\n",
      "Set parameter MIPFocus to value 2\n",
      "Set parameter ZeroHalfCuts to value 2\n",
      "Set parameter MIPGap to value 0\n",
      "Set parameter MIPGapAbs to value 0\n",
      "Set parameter PreCrush to value 1\n",
      "Set parameter CutPasses to value 100000\n",
      "Set parameter GomoryPasses to value 100000\n",
      "Set parameter MIPFocus to value 2\n",
      "Set parameter ZeroHalfCuts to value 2\n",
      "Set parameter MIPGap to value 0\n",
      "Set parameter MIPGapAbs to value 0\n",
      "Set parameter PreCrush to value 1\n",
      "Set parameter CutPasses to value 100000\n",
      "Set parameter GomoryPasses to value 100000\n",
      "Set parameter MIPFocus to value 2\n",
      "Set parameter ZeroHalfCuts to value 2\n",
      "Set parameter MIPGap to value 0\n",
      "Set parameter MIPGapAbs to value 0\n",
      "Set parameter PreCrush to value 1\n",
      "Set parameter CutPasses to value 100000\n",
      "Set parameter GomoryPasses to value 100000\n",
      "Set parameter MIPFocus to value 2\n",
      "Set parameter ZeroHalfCuts to value 2\n",
      "Set parameter MIPGap to value 0\n",
      "Set parameter MIPGapAbs to value 0\n"
     ]
    }
   ],
   "source": [
    "train_bns_normalizations_lags(df = df_prsa_data_train,normalizations=normalizations,max_lag=2,dataset_name=\"prsa\", palim=None)"
   ]
  },
  {
   "cell_type": "code",
   "execution_count": 34,
   "metadata": {},
   "outputs": [
    {
     "name": "stdout",
     "output_type": "stream",
     "text": [
      "Set parameter PreCrush to value 1\n",
      "Set parameter CutPasses to value 100000\n",
      "Set parameter GomoryPasses to value 100000\n",
      "Set parameter MIPFocus to value 2\n",
      "Set parameter ZeroHalfCuts to value 2\n",
      "Set parameter MIPGap to value 0\n",
      "Set parameter MIPGapAbs to value 0\n",
      "Set parameter PreCrush to value 1\n",
      "Set parameter CutPasses to value 100000\n",
      "Set parameter GomoryPasses to value 100000\n",
      "Set parameter MIPFocus to value 2\n",
      "Set parameter ZeroHalfCuts to value 2\n",
      "Set parameter MIPGap to value 0\n",
      "Set parameter MIPGapAbs to value 0\n",
      "Set parameter PreCrush to value 1\n",
      "Set parameter CutPasses to value 100000\n",
      "Set parameter GomoryPasses to value 100000\n",
      "Set parameter MIPFocus to value 2\n",
      "Set parameter ZeroHalfCuts to value 2\n",
      "Set parameter MIPGap to value 0\n",
      "Set parameter MIPGapAbs to value 0\n"
     ]
    }
   ],
   "source": [
    "train_bns_normalizations_lags(df = df_air_quality_train,normalizations=normalizations,max_lag=1,dataset_name=\"air\", palim= None)"
   ]
  },
  {
   "cell_type": "code",
   "execution_count": null,
   "metadata": {},
   "outputs": [
    {
     "name": "stdout",
     "output_type": "stream",
     "text": [
      "Set parameter PreCrush to value 1\n",
      "Set parameter CutPasses to value 100000\n",
      "Set parameter GomoryPasses to value 100000\n",
      "Set parameter MIPFocus to value 2\n",
      "Set parameter ZeroHalfCuts to value 2\n",
      "Set parameter MIPGap to value 0\n",
      "Set parameter MIPGapAbs to value 0\n",
      "Set parameter PreCrush to value 1\n",
      "Set parameter CutPasses to value 100000\n",
      "Set parameter GomoryPasses to value 100000\n",
      "Set parameter MIPFocus to value 2\n",
      "Set parameter ZeroHalfCuts to value 2\n",
      "Set parameter MIPGap to value 0\n",
      "Set parameter MIPGapAbs to value 0\n",
      "Set parameter PreCrush to value 1\n",
      "Set parameter CutPasses to value 100000\n",
      "Set parameter GomoryPasses to value 100000\n",
      "Set parameter MIPFocus to value 2\n",
      "Set parameter ZeroHalfCuts to value 2\n",
      "Set parameter MIPGap to value 0\n",
      "Set parameter MIPGapAbs to value 0\n"
     ]
    }
   ],
   "source": [
    "train_bns_normalizations_lags(df = df_air_quality_train,normalizations=normalizations,max_lag=3,dataset_name=\"air\", palim= None)"
   ]
  }
 ],
 "metadata": {
  "kernelspec": {
   "display_name": "Python 3.8.10 ('.env': venv)",
   "language": "python",
   "name": "python3"
  },
  "language_info": {
   "codemirror_mode": {
    "name": "ipython",
    "version": 3
   },
   "file_extension": ".py",
   "mimetype": "text/x-python",
   "name": "python",
   "nbconvert_exporter": "python",
   "pygments_lexer": "ipython3",
   "version": "3.10.4"
  },
  "orig_nbformat": 4,
  "vscode": {
   "interpreter": {
    "hash": "bedc66d5139ed090533b14cf9a11aaf4f09c8222058bea5820397d2af8859d53"
   }
  }
 },
 "nbformat": 4,
 "nbformat_minor": 2
}
